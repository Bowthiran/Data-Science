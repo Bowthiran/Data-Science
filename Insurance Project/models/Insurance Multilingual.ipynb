{
 "cells": [
  {
   "cell_type": "code",
   "execution_count": 1,
   "id": "bd002c28-9e82-4bf5-b538-6c23b6c4beee",
   "metadata": {},
   "outputs": [],
   "source": [
    "#--------------------------------------------------------Insurance Multilingual Model------------------------------------------------------------"
   ]
  },
  {
   "cell_type": "code",
   "execution_count": 2,
   "id": "a78bbe82-03ac-458a-b818-2403186dbdc9",
   "metadata": {},
   "outputs": [],
   "source": [
    "import os\n",
    "import pdfplumber\n",
    "import docx\n",
    "from googletrans import Translator\n",
    "import joblib"
   ]
  },
  {
   "cell_type": "code",
   "execution_count": 3,
   "id": "0ed9a215-42b5-4887-9607-eea74ce5c229",
   "metadata": {},
   "outputs": [],
   "source": [
    "def extract_text_and_translate(file_path, src_lang=\"en\", dest_lang=\"en\"):\n",
    "    ext = os.path.splitext(file_path)[-1].lower()\n",
    "    translator = Translator()\n",
    "\n",
    "    if ext == \".txt\":\n",
    "        with open(file_path, \"r\", encoding=\"utf-8\") as f:\n",
    "            text = f.read()\n",
    "\n",
    "    elif ext == \".docx\":\n",
    "        doc = docx.Document(file_path)\n",
    "        text = \"\\n\".join([para.text for para in doc.paragraphs])\n",
    "\n",
    "    elif ext == \".pdf\":\n",
    "        text = \"\"\n",
    "        with pdfplumber.open(file_path) as pdf:\n",
    "            for page in pdf.pages:\n",
    "                page_text = page.extract_text()\n",
    "                if page_text:\n",
    "                    text += page_text + \"\\n\"\n",
    "    else:\n",
    "        raise ValueError(\"❌ Unsupported file type!\")\n",
    "\n",
    "    lines = text.split(\"\\n\")\n",
    "    translated = [translator.translate(line, src=src_lang, dest=dest_lang).text for line in lines if line.strip()]\n",
    "    return \"\\n\".join(translated)"
   ]
  },
  {
   "cell_type": "code",
   "execution_count": 4,
   "id": "16a67ae4-78b5-49a6-b493-a76dd6e37756",
   "metadata": {},
   "outputs": [
    {
     "name": "stdout",
     "output_type": "stream",
     "text": [
      "✅ Function dumped successfully!\n"
     ]
    }
   ],
   "source": [
    "# dump the model\n",
    "joblib.dump(extract_text_and_translate, \"C:/Users/91801/Desktop/Insurance Project/models/insurance_translate.pkl\")\n",
    "print(\"✅ Function dumped successfully!\")"
   ]
  },
  {
   "cell_type": "code",
   "execution_count": 5,
   "id": "122bca13-943a-49b2-bdc5-3f8dba5769c7",
   "metadata": {},
   "outputs": [
    {
     "data": {
      "text/plain": [
       "'தற்செயலான மரணம் மற்றும் இயலாமை பாதுகாப்பு: தற்செயலான மரணம் அல்லது நிரந்தர இயலாமை ஏற்பட்டால் பாலிசிதாரருக்கான பாதுகாப்பு.\\nசுகாதார காப்பீடு: நோய் அல்லது காயம் காரணமாக ஏற்படும் மருத்துவ செலவினங்களுக்கான பாதுகாப்பு.\\nவீட்டுக் காப்பீடு: பாலிசிதாரரின் சொத்து தொடர்பான சேதங்கள் அல்லது இழப்புகளுக்கு எதிரான பாதுகாப்பு.\\nவாகன காப்பீடு: பாலிசிதாரரின் வாகனம் தொடர்பான சேதங்கள் அல்லது இழப்புக்கான பாதுகாப்பு.\\nதனிப்பட்ட பொறுப்பு காப்பீடு: பாதுகாப்பு காயங்கள் அல்லது சொத்து சேதங்களுக்கு பாலிசிதாரர் சட்டப்பூர்வமாக பொறுப்பேற்றால் பாதுகாப்பு.'"
      ]
     },
     "execution_count": 5,
     "metadata": {},
     "output_type": "execute_result"
    }
   ],
   "source": [
    "# load the model\n",
    "model = joblib.load(\"C:/Users/91801/Desktop/Insurance Project/models/insurance_translate.pkl\")\n",
    "model(file_path=\"C:/Users/91801/Desktop/insurance.txt\", src_lang=\"en\", dest_lang=\"ta\")"
   ]
  }
 ],
 "metadata": {
  "kernelspec": {
   "display_name": "Python 3 (ipykernel)",
   "language": "python",
   "name": "python3"
  },
  "language_info": {
   "codemirror_mode": {
    "name": "ipython",
    "version": 3
   },
   "file_extension": ".py",
   "mimetype": "text/x-python",
   "name": "python",
   "nbconvert_exporter": "python",
   "pygments_lexer": "ipython3",
   "version": "3.10.11"
  }
 },
 "nbformat": 4,
 "nbformat_minor": 5
}
