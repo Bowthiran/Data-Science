{
 "cells": [
  {
   "cell_type": "code",
   "execution_count": 1,
   "id": "6a24d5e6-6a19-404e-8aa5-0fc378722c1e",
   "metadata": {},
   "outputs": [],
   "source": [
    "#---------------------------------------------------------------Customer Sentiment Analysis------------------------------------------------------------"
   ]
  },
  {
   "cell_type": "code",
   "execution_count": 2,
   "id": "8aee9f49-48e3-4374-b758-300a0e337675",
   "metadata": {},
   "outputs": [],
   "source": [
    "import joblib\n",
    "import re\n",
    "import pandas as pd\n",
    "import matplotlib.pyplot as plt\n",
    "from textblob import TextBlob"
   ]
  },
  {
   "cell_type": "code",
   "execution_count": 3,
   "id": "b7a58a15-7449-4ab1-a606-07c0a5cacd36",
   "metadata": {},
   "outputs": [
    {
     "data": {
      "text/html": [
       "<div>\n",
       "<style scoped>\n",
       "    .dataframe tbody tr th:only-of-type {\n",
       "        vertical-align: middle;\n",
       "    }\n",
       "\n",
       "    .dataframe tbody tr th {\n",
       "        vertical-align: top;\n",
       "    }\n",
       "\n",
       "    .dataframe thead th {\n",
       "        text-align: right;\n",
       "    }\n",
       "</style>\n",
       "<table border=\"1\" class=\"dataframe\">\n",
       "  <thead>\n",
       "    <tr style=\"text-align: right;\">\n",
       "      <th></th>\n",
       "      <th>Customer_Id</th>\n",
       "      <th>Customer_Name</th>\n",
       "      <th>Customer_Location</th>\n",
       "      <th>Review_Text</th>\n",
       "    </tr>\n",
       "  </thead>\n",
       "  <tbody>\n",
       "    <tr>\n",
       "      <th>0</th>\n",
       "      <td>CUS0001</td>\n",
       "      <td>Sarah Hoelscher</td>\n",
       "      <td>US</td>\n",
       "      <td>Easy to use and understand! Qu...</td>\n",
       "    </tr>\n",
       "    <tr>\n",
       "      <th>1</th>\n",
       "      <td>CUS0002</td>\n",
       "      <td>Bruce Winslow</td>\n",
       "      <td>CR</td>\n",
       "      <td>It was a real pleasure to spea...</td>\n",
       "    </tr>\n",
       "    <tr>\n",
       "      <th>2</th>\n",
       "      <td>CUS0003</td>\n",
       "      <td>Kelly Wilmeth</td>\n",
       "      <td>US</td>\n",
       "      <td>Byron Preston was super helpfu...</td>\n",
       "    </tr>\n",
       "    <tr>\n",
       "      <th>3</th>\n",
       "      <td>CUS0004</td>\n",
       "      <td>Stephanie LeBlanc</td>\n",
       "      <td>US</td>\n",
       "      <td>Byron Preston was amazing walk...</td>\n",
       "    </tr>\n",
       "    <tr>\n",
       "      <th>4</th>\n",
       "      <td>CUS0005</td>\n",
       "      <td>JPD</td>\n",
       "      <td>US</td>\n",
       "      <td>Thanks Josh, top rate service ...</td>\n",
       "    </tr>\n",
       "  </tbody>\n",
       "</table>\n",
       "</div>"
      ],
      "text/plain": [
       "  Customer_Id      Customer_Name Customer_Location  \\\n",
       "0     CUS0001    Sarah Hoelscher                US   \n",
       "1     CUS0002      Bruce Winslow                CR   \n",
       "2     CUS0003      Kelly Wilmeth                US   \n",
       "3     CUS0004  Stephanie LeBlanc                US   \n",
       "4     CUS0005                JPD                US   \n",
       "\n",
       "                                         Review_Text  \n",
       "0                  Easy to use and understand! Qu...  \n",
       "1                  It was a real pleasure to spea...  \n",
       "2                  Byron Preston was super helpfu...  \n",
       "3                  Byron Preston was amazing walk...  \n",
       "4                  Thanks Josh, top rate service ...  "
      ]
     },
     "execution_count": 3,
     "metadata": {},
     "output_type": "execute_result"
    }
   ],
   "source": [
    "df = pd.read_csv(\"C:/Users/91801/Desktop/Insurance Project/dataset/customer_review.csv\")\n",
    "df.head()"
   ]
  },
  {
   "cell_type": "code",
   "execution_count": 4,
   "id": "0be7ada9-1e3a-4db0-9710-fe80f41a11b8",
   "metadata": {},
   "outputs": [],
   "source": [
    "#change columns to lowercase \n",
    "df.columns = df.columns.str.lower()"
   ]
  },
  {
   "cell_type": "code",
   "execution_count": 5,
   "id": "51f36771-dfd9-4f5f-9a7b-1fed5505a997",
   "metadata": {},
   "outputs": [
    {
     "name": "stdout",
     "output_type": "stream",
     "text": [
      "<class 'pandas.core.frame.DataFrame'>\n",
      "RangeIndex: 44934 entries, 0 to 44933\n",
      "Data columns (total 4 columns):\n",
      " #   Column             Non-Null Count  Dtype \n",
      "---  ------             --------------  ----- \n",
      " 0   customer_id        44934 non-null  object\n",
      " 1   customer_name      44934 non-null  object\n",
      " 2   customer_location  44934 non-null  object\n",
      " 3   review_text        44934 non-null  object\n",
      "dtypes: object(4)\n",
      "memory usage: 1.4+ MB\n"
     ]
    }
   ],
   "source": [
    "df.info()"
   ]
  },
  {
   "cell_type": "code",
   "execution_count": 6,
   "id": "e2745f31-ea4b-4ebe-aec7-811e3bd0fc67",
   "metadata": {},
   "outputs": [
    {
     "data": {
      "text/html": [
       "<div>\n",
       "<style scoped>\n",
       "    .dataframe tbody tr th:only-of-type {\n",
       "        vertical-align: middle;\n",
       "    }\n",
       "\n",
       "    .dataframe tbody tr th {\n",
       "        vertical-align: top;\n",
       "    }\n",
       "\n",
       "    .dataframe thead th {\n",
       "        text-align: right;\n",
       "    }\n",
       "</style>\n",
       "<table border=\"1\" class=\"dataframe\">\n",
       "  <thead>\n",
       "    <tr style=\"text-align: right;\">\n",
       "      <th></th>\n",
       "      <th>customer_id</th>\n",
       "      <th>customer_name</th>\n",
       "      <th>customer_location</th>\n",
       "      <th>review_text</th>\n",
       "    </tr>\n",
       "  </thead>\n",
       "  <tbody>\n",
       "    <tr>\n",
       "      <th>count</th>\n",
       "      <td>44934</td>\n",
       "      <td>44934</td>\n",
       "      <td>44934</td>\n",
       "      <td>44934</td>\n",
       "    </tr>\n",
       "    <tr>\n",
       "      <th>unique</th>\n",
       "      <td>20</td>\n",
       "      <td>20</td>\n",
       "      <td>3</td>\n",
       "      <td>44700</td>\n",
       "    </tr>\n",
       "    <tr>\n",
       "      <th>top</th>\n",
       "      <td>CUS0001</td>\n",
       "      <td>Sarah Hoelscher</td>\n",
       "      <td>US</td>\n",
       "      <td>Excellent service</td>\n",
       "    </tr>\n",
       "    <tr>\n",
       "      <th>freq</th>\n",
       "      <td>2259</td>\n",
       "      <td>2259</td>\n",
       "      <td>40440</td>\n",
       "      <td>14</td>\n",
       "    </tr>\n",
       "  </tbody>\n",
       "</table>\n",
       "</div>"
      ],
      "text/plain": [
       "       customer_id    customer_name customer_location  \\\n",
       "count        44934            44934             44934   \n",
       "unique          20               20                 3   \n",
       "top        CUS0001  Sarah Hoelscher                US   \n",
       "freq          2259             2259             40440   \n",
       "\n",
       "                                          review_text  \n",
       "count                                           44934  \n",
       "unique                                          44700  \n",
       "top                     Excellent service              \n",
       "freq                                               14  "
      ]
     },
     "execution_count": 6,
     "metadata": {},
     "output_type": "execute_result"
    }
   ],
   "source": [
    "df.describe(include=\"object\")"
   ]
  },
  {
   "cell_type": "code",
   "execution_count": 7,
   "id": "5bc59103-d6f6-4bbe-a145-45ecf6ad2a20",
   "metadata": {},
   "outputs": [],
   "source": [
    "def sentiment_analysis(raw_text):\n",
    "    stop_words = set([\n",
    "        'the', 'and', 'is', 'in', 'it', 'of', 'to', 'a', 'for', 'on', 'this', 'that', 'with',\n",
    "        'as', 'was', 'but', 'are', 'have', 'be', 'at', 'or', 'an', 'so', 'if', 'out', 'not'])\n",
    "\n",
    "    raw_text = \" \".join(raw_text) if isinstance(raw_text, list) else raw_text\n",
    "    lower = raw_text.lower()\n",
    "    special = re.sub(r\"[^a-zA-Z0-9]\", \" \", lower)\n",
    "    tokens = special.split()\n",
    "    tokens = [word for word in tokens if word not in stop_words]\n",
    "    text = \" \".join(tokens)\n",
    "\n",
    "    polarity = TextBlob(text).sentiment.polarity\n",
    "    if polarity > 0.1:\n",
    "        return \"Positive\"\n",
    "    elif polarity < -0.1:\n",
    "        return \"Negative\"\n",
    "    else:\n",
    "        return \"Neutral\""
   ]
  },
  {
   "cell_type": "code",
   "execution_count": 9,
   "id": "692e3e6f-0173-4f20-bc51-6bde251be624",
   "metadata": {},
   "outputs": [],
   "source": [
    "df[\"sentiment_label\"] = df[\"review_text\"].apply(sentiment_analysis)"
   ]
  },
  {
   "cell_type": "code",
   "execution_count": 10,
   "id": "e0e4c18f-a7c4-441f-bb97-876a6889f845",
   "metadata": {},
   "outputs": [
    {
     "data": {
      "image/png": "[encoded data removed]",
      "text/plain": [
       "<Figure size 600x600 with 1 Axes>"
      ]
     },
     "metadata": {},
     "output_type": "display_data"
    }
   ],
   "source": [
    "review_label = df[\"sentiment_label\"].value_counts()\n",
    "\n",
    "plt.figure(figsize=(6, 6))\n",
    "plt.pie(review_label, labels=review_label.index, explode=[0, 0, 0.05], autopct=\"%1.1f%%\")\n",
    "plt.title(\"Sentiment Distribution\")\n",
    "plt.axis(\"equal\")\n",
    "plt.show()"
   ]
  },
  {
   "cell_type": "code",
   "execution_count": 11,
   "id": "a5f945e5-51a3-4e87-91b7-189f2c0749aa",
   "metadata": {},
   "outputs": [
    {
     "data": {
      "text/plain": [
       "['C:/Users/91801/Desktop/Insurance Project/models/sentiment_analysis.pkl']"
      ]
     },
     "execution_count": 11,
     "metadata": {},
     "output_type": "execute_result"
    }
   ],
   "source": [
    "# dump the pipline\n",
    "joblib.dump(sentiment_analysis, \"C:/Users/91801/Desktop/Insurance Project/models/sentiment_analysis.pkl\")"
   ]
  },
  {
   "cell_type": "code",
   "execution_count": 13,
   "id": "d4bef554-7785-42fd-b140-11a255adec13",
   "metadata": {},
   "outputs": [
    {
     "data": {
      "text/plain": [
       "'Positive'"
      ]
     },
     "execution_count": 13,
     "metadata": {},
     "output_type": "execute_result"
    }
   ],
   "source": [
    "# load the model\n",
    "sentiment = joblib.load(\"C:/Users/91801/Desktop/Insurance Project/models/sentiment_analysis.pkl\")\n",
    "sentiment(\"I am Good\") "
   ]
  }
 ],
 "metadata": {
  "kernelspec": {
   "display_name": "Python 3 (ipykernel)",
   "language": "python",
   "name": "python3"
  },
  "language_info": {
   "codemirror_mode": {
    "name": "ipython",
    "version": 3
   },
   "file_extension": ".py",
   "mimetype": "text/x-python",
   "name": "python",
   "nbconvert_exporter": "python",
   "pygments_lexer": "ipython3",
   "version": "3.10.11"
  }
 },
 "nbformat": 4,
 "nbformat_minor": 5
}
