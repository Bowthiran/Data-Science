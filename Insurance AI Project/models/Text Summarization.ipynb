{
 "cells": [
  {
   "cell_type": "code",
   "execution_count": 1,
   "id": "8e795c28-4f28-447f-9148-776ec5e14e31",
   "metadata": {},
   "outputs": [],
   "source": [
    "#---------------------------------------------------------------Text Summarization-------------------------------------------------------------------"
   ]
  },
  {
   "cell_type": "code",
   "execution_count": 2,
   "id": "383e6263-0159-4d34-9b94-edc810f87a75",
   "metadata": {},
   "outputs": [],
   "source": [
    "import joblib\n",
    "from sklearn.pipeline import Pipeline\n",
    "from transformers import pipeline\n",
    "from sklearn.preprocessing import FunctionTransformer"
   ]
  },
  {
   "cell_type": "code",
   "execution_count": 3,
   "id": "ac472af9-c3d0-4083-b0ad-12dd939be173",
   "metadata": {},
   "outputs": [
    {
     "name": "stdout",
     "output_type": "stream",
     "text": [
      "WARNING:tensorflow:From C:\\Users\\91801\\AppData\\Local\\Programs\\Python\\Python310\\lib\\site-packages\\tf_keras\\src\\losses.py:2976: The name tf.losses.sparse_softmax_cross_entropy is deprecated. Please use tf.compat.v1.losses.sparse_softmax_cross_entropy instead.\n",
      "\n"
     ]
    },
    {
     "name": "stderr",
     "output_type": "stream",
     "text": [
      "Device set to use cpu\n"
     ]
    }
   ],
   "source": [
    "# load the pretrained model\n",
    "summarizer = pipeline(\"summarization\", model=\"facebook/bart-large-cnn\")\n",
    "text = \"The United India Individual Health Insurance Policy provides coverage for in-patient hospitalization, pre and post hospitalization expenses (within 30 and 60 days respectively), advanced treatments like robotic surgeries and chemotherapy, and home care treatment during epidemics. It includes benefits such as daily cash allowance, ambulance coverage, and health check-ups. Exclusions apply to treatments related to adventure sports, unproven procedures, cosmetic surgery, outpatient treatments, and specific conditions such as dental work and hearing aids. Claims may be settled via cashless networks or reimbursement, with strict timelines for notification and submission. There is a 30-day initial waiting period and 36 months for pre-existing condition coverage. Policyholders can migrate or port policies, with provisions for grievance redressal and free-look cancellation within 30 days.\""
   ]
  },
  {
   "cell_type": "code",
   "execution_count": 4,
   "id": "d4743479-3170-491b-977c-8e8c3a50dd09",
   "metadata": {},
   "outputs": [],
   "source": [
    "# text summarization\n",
    "def summarize_text(text):\n",
    "    summary = summarizer(text, max_length=200, min_length=50, do_sample=False)\n",
    "    return summary[0][\"summary_text\"]"
   ]
  },
  {
   "cell_type": "code",
   "execution_count": 5,
   "id": "144fd4aa-ed34-4dd2-b2aa-b5c4a849680e",
   "metadata": {},
   "outputs": [],
   "source": [
    "# joblib.dump(summarize_text, \"C:/Users/91801/Desktop/Insurance Project/models/text_summarization.pkl\")"
   ]
  },
  {
   "cell_type": "code",
   "execution_count": 6,
   "id": "f4b02d7a-dc44-48b0-815c-0435cb5e340c",
   "metadata": {},
   "outputs": [],
   "source": [
    "# text_summary = joblib.load(\"C:/Users/91801/Desktop/Insurance Project/models/text_summarization.pkl\")\n",
    "# text_summary(\"The United India Individual Health Insurance Policy provides coverage for in-patient hospitalization, pre and post hospitalization expenses (within 30 and 60 days respectively), advanced treatments like robotic surgeries and chemotherapy, and home care treatment during epidemics. It includes benefits such as daily cash allowance, ambulance coverage, and health check-ups. Exclusions apply to treatments related to adventure sports, unproven procedures, cosmetic surgery, outpatient treatments, and specific conditions such as dental work and hearing aids. Claims may be settled via cashless networks or reimbursement, with strict timelines for notification and submission. There is a 30-day initial waiting period and 36 months for pre-existing condition coverage. Policyholders can migrate or port policies, with provisions for grievance redressal and free-look cancellation within 30 days.\")"
   ]
  },
  {
   "cell_type": "code",
   "execution_count": 7,
   "id": "5063b569-4be8-4ec8-93cf-03790594472d",
   "metadata": {},
   "outputs": [
    {
     "name": "stderr",
     "output_type": "stream",
     "text": [
      "Device set to use cpu\n"
     ]
    }
   ],
   "source": [
    "# load the pretrained model\n",
    "summarizer = pipeline(\"summarization\", model=\"t5-small\")\n",
    "\n",
    "def summarize_text(text_list):\n",
    "    return [summarizer(text, max_length=200, min_length=50, do_sample=False)[0][\"summary_text\"] for text in text_list]"
   ]
  },
  {
   "cell_type": "code",
   "execution_count": 8,
   "id": "06132275-f7d8-4925-b925-c8d3a14ba5ff",
   "metadata": {},
   "outputs": [
    {
     "data": {
      "text/plain": [
       "['C:/Users/91801/Desktop/Insurance Project/models/text_summarization.pkl']"
      ]
     },
     "execution_count": 8,
     "metadata": {},
     "output_type": "execute_result"
    }
   ],
   "source": [
    "# create pipeline & dump it\n",
    "summarization_pipeline = Pipeline([\n",
    "    (\"summarizer\", FunctionTransformer(func=summarize_text, validate=False))\n",
    "])\n",
    "\n",
    "joblib.dump(summarization_pipeline, \"C:/Users/91801/Desktop/Insurance Project/models/text_summarization.pkl\")"
   ]
  }
 ],
 "metadata": {
  "kernelspec": {
   "display_name": "Python 3 (ipykernel)",
   "language": "python",
   "name": "python3"
  },
  "language_info": {
   "codemirror_mode": {
    "name": "ipython",
    "version": 3
   },
   "file_extension": ".py",
   "mimetype": "text/x-python",
   "name": "python",
   "nbconvert_exporter": "python",
   "pygments_lexer": "ipython3",
   "version": "3.10.11"
  }
 },
 "nbformat": 4,
 "nbformat_minor": 5
}
